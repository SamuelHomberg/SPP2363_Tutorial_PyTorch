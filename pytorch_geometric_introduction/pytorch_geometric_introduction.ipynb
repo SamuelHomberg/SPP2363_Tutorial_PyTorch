{
 "cells": [
  {
   "cell_type": "markdown",
   "id": "d1c41b20",
   "metadata": {},
   "source": [
    "<img src=\"Images/pyg2.png\" alt=\"\" width=\"150\"/> <br><br>\n",
    "\n",
    "# A Chemists Guide to [PyTorch Geometric](https://pytorch-geometric.readthedocs.io/en/latest/)\n",
    "<br>\n",
    "\n",
    "> ### Chapters:\n",
    ">\n",
    ">* [Installation](#installation)\n",
    ">* [Loading Existing Datasets](#loading-existing-datasets)\n",
    ">* [Creating Your Own Datasets](#creating-your-own-datasets)\n",
    ">* [Training a Simple Model](#training-a-simple-model)\n",
    ">\n"
   ]
  },
  {
   "cell_type": "markdown",
   "id": "0acdf8c4",
   "metadata": {},
   "source": [
    "<a id='installation'></a>\n",
    "\n",
    "## Installation\n",
    "PyTorch Geometric builds on the popular machine learning framework PyTorch and extends it by adding machine learning functionalities for graphs. In addition to the machine learning packages, we need to install RDKit to work with molecules. To install the packages using anaconda, open a terminal in the same environment this notebook is running in and execute the following commands. <br> \n",
    "First install [RDKit](https://anaconda.org/conda-forge/rdkit), \n",
    "then install [PyTorch](https://pytorch.org/get-started/locally/),\n",
    "finally install [PyTorch Geometric](https://pytorch-geometric.readthedocs.io/en/latest/notes/installation.html):\n",
    "\n",
    ">```conda install -c conda-forge rdkit```\n",
    ">\n",
    ">```conda install pytorch torchvision torchaudio cpuonly -c pytorch```\n",
    ">\n",
    ">```conda install pyg -c pyg```\n",
    "\n",
    "Import the packages.\n"
   ]
  },
  {
   "cell_type": "code",
   "execution_count": null,
   "id": "3a40dcd5",
   "metadata": {},
   "outputs": [],
   "source": [
    "from rdkit import Chem\n",
    "import torch\n",
    "import torch_geometric"
   ]
  },
  {
   "cell_type": "markdown",
   "id": "bb66ad4f",
   "metadata": {},
   "source": [
    "<a id='loading-existing-datasets'></a>\n",
    "\n",
    "## Loading Existing Datasets\n",
    "PyTorch Geometric ships with a lot of graph datasets, a list of which can be found [here](https://pytorch-geometric.readthedocs.io/en/latest/modules/datasets.html). <br>For molecular machine learning, the datasets from the paper [\"MoleculeNet, A Benchmark for Molecular Machine Learning\"](https://arxiv.org/abs/1703.00564) are the most relevant, although some of the datasets collected by the [TU Dortmund](https://chrsmrrs.github.io/datasets) also include molecular graphs. In addition, a graph dataset from the [ZINC database](https://pubs.acs.org/doi/abs/10.1021/acs.jcim.5b00559) used with 250 000 molecular graphs is available.\n",
    "<br><br>\n",
    "As an example, we are going to load the Tox21 dataset availiable as part of the MoleculeNet datasets."
   ]
  },
  {
   "cell_type": "code",
   "execution_count": null,
   "id": "615613f6",
   "metadata": {
    "scrolled": true
   },
   "outputs": [],
   "source": [
    "dataset = torch_geometric.datasets.MoleculeNet(root=\".\", name=\"Tox21\")"
   ]
  },
  {
   "cell_type": "markdown",
   "id": "dc5c677b",
   "metadata": {},
   "source": [
    " The data will only be downloaded once and saved in a new folder in the directory of this notebook. We will explore how this works later. <br> <br> \n",
    " We can now inspect the data we downloaded:"
   ]
  },
  {
   "cell_type": "code",
   "execution_count": null,
   "id": "f3a60120",
   "metadata": {},
   "outputs": [],
   "source": [
    "print(dataset)\n",
    "print(dataset[0])"
   ]
  },
  {
   "cell_type": "markdown",
   "id": "c8d29031",
   "metadata": {},
   "source": [
    "We can see that the dataset encompasses 7831 molecular graphs. If we look at the first graph in the dataset, PyTorch Geometric shows us a `Data` object. This object is the graph in a computer readable format and works much like a python dictionary. We can access each attribute individually.  \n"
   ]
  },
  {
   "cell_type": "code",
   "execution_count": null,
   "id": "89fc9ddb",
   "metadata": {},
   "outputs": [],
   "source": [
    "dataset[0].x"
   ]
  },
  {
   "cell_type": "markdown",
   "id": "feb5cd4a",
   "metadata": {},
   "source": [
    "The node feature matrix `x=[16, 9]` of the molecular graph has the shape `[num_nodes, num_features]`. The first graph has 16 nodes, and because `num_nodes` for molecular graphs is normally the number of atoms, we can see that the first molecule has 16 atoms. In this version of the dataset, each atom has a 9-dimensional feature vector, containing atomic number and chirality, as well as other additional atom features such as formal charge and whether the atom is in the ring or not, which was added from the [Open Graph Benchmark](https://ogb.stanford.edu/docs/graphprop/)."
   ]
  },
  {
   "cell_type": "code",
   "execution_count": null,
   "id": "67da36cd",
   "metadata": {},
   "outputs": [],
   "source": [
    "dataset[0].edge_index"
   ]
  },
  {
   "cell_type": "markdown",
   "id": "7adcf050",
   "metadata": {},
   "source": [
    "The `edge_index` denotes the connectivity of the nodes and is in molecular graphs a representation of the bonds. It has the shape `[2, num_edges]`, showing the direction of edges. Because bonds have no direction, each node pair appears twice. Saving the connections this way is a more memory efficient way than using an adjacency matrix. <br><br>\n",
    "Node feature matrix and edge index are enough to define our graph. But we also need labels to actually train on our data."
   ]
  },
  {
   "cell_type": "code",
   "execution_count": null,
   "id": "743044ce",
   "metadata": {},
   "outputs": [],
   "source": [
    "dataset[0].y"
   ]
  },
  {
   "cell_type": "markdown",
   "id": "27c599eb",
   "metadata": {},
   "source": [
    "The labels are saved in `y` and for the Tox21 dataset, they denote the 12 different toxicological tests for each compound (0 means inactive and 1 means active). <br><br>\n",
    "The `edge_attr` attribute is an edge feature matrix, which for molecular graphs normally encodes the bond order. Many message passing algorithms used to train graph neural networks do not use edge attributes, so we will ignore them for now. <br><br>\n",
    "Important is the `smiles` label each graph has. This allows us to look at the molecule and even make changes to it with RDKit. Unfortunately not every molecular graph dataset in PyTorch Geometric comes with SMILES attached."
   ]
  },
  {
   "cell_type": "code",
   "execution_count": null,
   "id": "670491ff",
   "metadata": {},
   "outputs": [],
   "source": [
    "Chem.Draw.MolToImage(Chem.MolFromSmiles(dataset[0].smiles))"
   ]
  },
  {
   "cell_type": "markdown",
   "id": "01342240",
   "metadata": {},
   "source": [
    "<a id='creating-your-own-datasets'></a>\n",
    "\n",
    "## Creating Your Own Datasets\n",
    "Often we want to try out different feature sets or work on a custom dataset that is not implemented in PyTorch Geometric. While it is possible to just create a (pickled) `list` of PyTorch Geometric `Data` objects and feed the list to a graph neural network, it is more efficient to create a custom dataset. How to create a dataset is docomented [here](https://pytorch-geometric.readthedocs.io/en/latest/notes/create_dataset.html) and also describes how to create datasets that do not fit into memory. <br><br>\n",
    "Assuming we have molecular data in the form of SMILES and some arbitrary label, saved as a `.csv`:"
   ]
  },
  {
   "cell_type": "code",
   "execution_count": null,
   "id": "36d1b374",
   "metadata": {},
   "outputs": [],
   "source": [
    "import pandas as pd\n",
    "example_data = pd.read_csv('data.csv')\n",
    "example_data"
   ]
  },
  {
   "cell_type": "markdown",
   "id": "e3dd70cb",
   "metadata": {},
   "source": [
    "We need to create a class that inherits from `InMemoryDataset` (or from `Dataset` for large datasets). In the class four methods need to be implemented for the dataset to work.\n",
    "* `raw_file_names()` lists files in the `raw_dir` which have to be found in order to skip the download.\n",
    "* `processed_file_names()`lists files in the `processed_dir` which have to be found in order to skip the processing.\n",
    "* `download()` downloads the raw data into the `raw_dir`.\n",
    "* `process()` processes raw data and saves it to the `processed_dir`.\n",
    "\n",
    "The additional methods `transform()`, `pre_transform()` and `pre_filter()` will not be implemented in this example but can be read about [here](https://pytorch-geometric.readthedocs.io/en/latest/notes/create_dataset.html)."
   ]
  },
  {
   "cell_type": "markdown",
   "id": "3498a23c",
   "metadata": {},
   "source": [
    ">We start by initiating the class, and add an additional parameter `create_edge_attr`.\n",
    "```py\n",
    "class MyDataset(torch_geometric.data.InMemoryDataset):\n",
    "    def __init__(self, root, create_edge_attr=False):\n",
    "        self.create_edge_attr=create_edge_attr\n",
    "        super().__init__(root)\n",
    "        \n",
    "        self.data, self.slices = torch.load(self.processed_paths[0])\n",
    "```\n",
    ">In the `raw_file_names()` method we return the name of our raw data.\n",
    "```py\n",
    "    @property\n",
    "    def raw_file_names(self):\n",
    "        return ['data.csv']\n",
    "```\n",
    ">In the `processed_file_names()` method we return the name we want our processed data to have.\n",
    "```py\n",
    "    @property\n",
    "    def processed_file_names(self):\n",
    "        return ['processed_data.pt']\n",
    "```\n",
    ">We repurpose the `download()` method to simply copy our original `.csv` file to the raw folder. PyTorch Geometric allso has functions like[`download_url`](https://pytorch-geometric.readthedocs.io/en/latest/modules/data.html) to directly download data from the internet. This method will only be called, if the previously specified files are not in the raw directory.\n",
    "```py\n",
    "    def download(self):\n",
    "        import shutil\n",
    "        shutil.copy('data.csv', self.raw_dir+'/data.csv')\n",
    "```\n",
    "\n",
    ">In the `process()` method the graphs are actually created from the smiles we supplied. While PyTorch Geometric has a [`from_smiles`](https://pytorch-geometric.readthedocs.io/en/latest/_modules/torch_geometric/utils/smiles.html#from_smiles) function defined, here we will learn how we could featurize the molecules in different ways. This method will only be called if the files in the processed directory are not present. So you will have to **manually delete the processed files** if you made changes to the `process()` method after calling it for the first time.<br><br>We start by reading in the raw data and create an list to save our graphs in. \n",
    "```py\n",
    "    def process(self):\n",
    "        df = pd.read_csv(self.raw_paths[0])\n",
    "        data_list = [None]*len(df)\n",
    "```\n",
    ">We now iterate over our raw data and create `mols`from the smiles.\n",
    "```py\n",
    "        for idx, row in df.iterrows():\n",
    "            smiles = row['smiles']\n",
    "            label = row['labels']\n",
    "            mol = Chem.MolFromSmiles(smiles)\n",
    "```\n",
    ">We create an empty node feature matrix, and to fill it, we iterate over the atoms and add the atomic features. Here we only use 5 features, but this can of course be expanded.\n",
    "```py\n",
    "            x = torch.empty([mol.GetNumAtoms(), 5], dtype=torch.long)\n",
    "            for i, atom in enumerate(mol.GetAtoms()):\n",
    "                x[i][0] = atom.GetAtomicNum()\n",
    "                x[i][1] = atom.GetDegree()\n",
    "                x[i][2] = atom.GetFormalCharge()\n",
    "                x[i][3] = atom.GetHybridization()\n",
    "                x[i][4] = atom.GetIsAromatic()\n",
    "```\n",
    ">To create the edge_index, we need to know wether we need edge attributes. RDKit supplies the adjacency matrix, which is easily transformed to the sparse `edge_index`. If, however, we want to use edge attributes as well, we have to iterate over the bonds as we did with the atom features. We also need to supply each bond twice, because molecular graphs are undirected wich leads to each edge appearing twice. We will simply use the RDKit bond type as our edge attributes. \n",
    "```py\n",
    "            if self.create_edge_attr:\n",
    "                edge_indices = []\n",
    "                edge_attrs = []\n",
    "                for i, bond in enumerate(mol.GetBonds()):\n",
    "                    atom1 = bond.GetBeginAtomIdx()\n",
    "                    atom2 = bond.GetEndAtomIdx()\n",
    "                    \n",
    "                    # cast aromatic value (1.5) to int 4\n",
    "                    attr = 4 if bond.GetIsAromatic() else int(bond.GetBondTypeAsDouble()) \n",
    "                    \n",
    "                    edge_indices += [[atom1, atom2], [atom2,atom1]]\n",
    "                    edge_attrs += [attr, attr]\n",
    "                edge_index = torch.tensor(edge_indices)\n",
    "                edge_index = edge_index.t().to(torch.long).view(2,-1)\n",
    "                edge_attr = torch.tensor(edge_attrs, dtype=torch.long).unsqueeze(1)\n",
    "\n",
    "                if edge_index.numel() > 0:  # Sort indices.\n",
    "                    perm = (edge_index[0] * x.size(0) + edge_index[1]).argsort()\n",
    "                    edge_index, edge_attr = edge_index[:, perm], edge_attr[perm]\n",
    "            else:\n",
    "                adj = Chem.rdmolops.GetAdjacencyMatrix(mol)\n",
    "                edge_index, _ = torch_geometric.utils.dense_to_sparse(torch.tensor(adj))\n",
    "```\n",
    ">Now we only need to cast the label to a tensor as well and then create the `Data` object from everything. It is important to also add the SMILES to the graph, if we later want to look at the molecule.\n",
    "```py\n",
    "            label = torch.tensor([[label]], dtype=torch.long)\n",
    "            \n",
    "            data_list[idx] = torch_geometric.data.Data(x=x, \n",
    "                                                       edge_index=edge_index, \n",
    "                                                       y=label,\n",
    "                                                       smiles=smiles)\n",
    "            if self.create_edge_attr: data_list[idx].edge_attr = edge_attr\n",
    "```\n",
    ">Finally, all of our created graphs are saved in a more efficient way. The last line of the constructor will load and unpack this data.\n",
    "```py\n",
    "        data, slices = self.collate(data_list)\n",
    "        torch.save((data, slices), self.processed_paths[0])\n",
    "```\n",
    "\n",
    ">Now we can create and inspect our dataset. (You can also just copy the next cell and make minor modification to create your own dataset.)"
   ]
  },
  {
   "cell_type": "code",
   "execution_count": null,
   "id": "bcf8f8f3",
   "metadata": {},
   "outputs": [],
   "source": [
    "class MyDataset(torch_geometric.data.InMemoryDataset):\n",
    "    def __init__(self, root, create_edge_attr=False):\n",
    "        self.create_edge_attr=create_edge_attr\n",
    "        super().__init__(root)\n",
    "        self.data, self.slices = torch.load(self.processed_paths[0])\n",
    "        \n",
    "    @property\n",
    "    def raw_file_names(self):\n",
    "        return ['data.csv']\n",
    "\n",
    "    @property\n",
    "    def processed_file_names(self):\n",
    "        return ['processed_data.pt']\n",
    "\n",
    "    def download(self):\n",
    "        import shutil\n",
    "        shutil.copy('data.csv', self.raw_dir+'/data.csv')\n",
    "\n",
    "    def process(self):\n",
    "        df = pd.read_csv(self.raw_paths[0])\n",
    "        data_list = [None]*len(df)\n",
    "        for idx, row in df.iterrows():\n",
    "            smiles = row['smiles']\n",
    "            label = row['labels']\n",
    "            mol = Chem.MolFromSmiles(smiles)\n",
    "            \n",
    "            x = torch.empty([mol.GetNumAtoms(), 5], dtype=torch.long)\n",
    "            for i, atom in enumerate(mol.GetAtoms()):\n",
    "                x[i][0] = atom.GetAtomicNum()\n",
    "                x[i][1] = atom.GetDegree()\n",
    "                x[i][2] = atom.GetFormalCharge()\n",
    "                x[i][3] = atom.GetHybridization()\n",
    "                x[i][4] = atom.GetIsAromatic()\n",
    "            \n",
    "            if self.create_edge_attr:\n",
    "                edge_indices = []\n",
    "                edge_attrs = []\n",
    "                for i, bond in enumerate(mol.GetBonds()):\n",
    "                    atom1 = bond.GetBeginAtomIdx()\n",
    "                    atom2 = bond.GetEndAtomIdx()\n",
    "                    attr = 4 if bond.GetIsAromatic() else int(bond.GetBondTypeAsDouble()) # cast aromatic value (1.5) to int 4                   \n",
    "                    edge_indices += [[atom1, atom2], [atom2,atom1]]\n",
    "                    edge_attrs += [attr, attr]\n",
    "                edge_index = torch.tensor(edge_indices)\n",
    "                edge_index = edge_index.t().to(torch.long).view(2,-1)\n",
    "                edge_attr = torch.tensor(edge_attrs, dtype=torch.long).unsqueeze(1)\n",
    "\n",
    "                if edge_index.numel() > 0:  # Sort indices.\n",
    "                    perm = (edge_index[0] * x.size(0) + edge_index[1]).argsort()\n",
    "                    edge_index, edge_attr = edge_index[:, perm], edge_attr[perm]\n",
    "            else:\n",
    "                adj = Chem.rdmolops.GetAdjacencyMatrix(mol)\n",
    "                edge_index, _ = torch_geometric.utils.dense_to_sparse(torch.tensor(adj))\n",
    "            \n",
    "            label = torch.tensor([[label]], dtype=torch.long)\n",
    "            \n",
    "            data_list[idx] = torch_geometric.data.Data(x=x, \n",
    "                                                  edge_index=edge_index, \n",
    "                                                  y=label,\n",
    "                                                  smiles=smiles)\n",
    "            if self.create_edge_attr: data_list[idx].edge_attr = edge_attr\n",
    "\n",
    "        data, slices = self.collate(data_list)\n",
    "        torch.save((data, slices), self.processed_paths[0])\n",
    "        \n",
    "my_set = MyDataset('tox21', create_edge_attr = True)\n",
    "\n",
    "print(my_set)\n",
    "print(my_set[1])"
   ]
  },
  {
   "cell_type": "code",
   "execution_count": null,
   "id": "3eee90ff",
   "metadata": {
    "scrolled": false
   },
   "outputs": [],
   "source": [
    "print(my_set[1].x)\n",
    "print(my_set[1].edge_index)\n",
    "print(my_set[1].y)\n",
    "print(my_set[1].smiles)\n",
    "print(my_set[1].edge_attr)"
   ]
  },
  {
   "cell_type": "markdown",
   "id": "9f130920",
   "metadata": {},
   "source": [
    "In the next section we will learn how to train a simple graph neural network to on the Tox21 dataset."
   ]
  },
  {
   "cell_type": "markdown",
   "id": "16a5f363",
   "metadata": {},
   "source": [
    "<a id='training-a-simple-model'></a>\n",
    "\n",
    "## Training a Simple Model"
   ]
  },
  {
   "cell_type": "markdown",
   "id": "97168889",
   "metadata": {},
   "source": [
    "Graph neural networks use message passing algorithms to pass information along the edges of a graph. The popular algorithms are already implemented as convolutional layers in PyTorch Geometric, a list of which can be found [here](https://pytorch-geometric.readthedocs.io/en/latest/modules/nn.html). Classes like `Sequential` or `BatchNorm` from PyTorch have also been implemented for PyTorch Geometric.<br><br>If you already know about training neural networks, you can probably skip this section.<br><br>We will build our model as a class that inherits from PyTorchs `Module` class. We start with two Graph Attention Convolutional Layers, followed by a max-pooling layer and fully connected layer, using ReLUs as nonlinear activation functions."
   ]
  },
  {
   "cell_type": "code",
   "execution_count": null,
   "id": "47cbe285",
   "metadata": {},
   "outputs": [],
   "source": [
    "import torch\n",
    "from torch_geometric.nn import GATConv, global_max_pool\n",
    "from torch.nn import functional as F\n",
    "from torch.nn import Linear\n",
    "\n",
    "class MyModel(torch.nn.Module):\n",
    "    def __init__(self):\n",
    "        super().__init__()\n",
    "        self.conv1 = GATConv(9, 200)\n",
    "        self.conv2 = GATConv(200, 200)\n",
    "        self.fc1 = Linear(200, 12)\n",
    "\n",
    "    def forward(self, x, edge_index, batch):\n",
    "       \n",
    "        x = self.conv1(x, edge_index)\n",
    "        x = F.relu(x)\n",
    "        x = self.conv2(x, edge_index)\n",
    "        x = F.relu(x)\n",
    "        x = global_max_pool(x, batch)\n",
    "        x = self.fc1(x)\n",
    "        \n",
    "        return x\n"
   ]
  },
  {
   "cell_type": "markdown",
   "id": "ee3c95d9",
   "metadata": {},
   "source": [
    "We will train our model on the Tox21 Dataset that was downloaded earlier. For the convolutional layers it is neccessary to cast the node features to float tensors and we randomly split our dataset into a train- and testset. (Unfortunatly we have to change the nice dataset to a list if we want to actually change the datatype of the tensors.)<br>We also make use of the `loader` functionality to train the data in batches. "
   ]
  },
  {
   "cell_type": "code",
   "execution_count": null,
   "id": "a95b826b",
   "metadata": {},
   "outputs": [],
   "source": [
    "import torch_geometric\n",
    "from torch_geometric import loader\n",
    "\n",
    "dataset = torch_geometric.datasets.MoleculeNet(root=\".\", name=\"Tox21\")\n",
    "dataset = dataset.shuffle()\n",
    "dataset = list(dataset)\n",
    "for graph in dataset:\n",
    "    graph.x = graph.x.type(torch.float32)\n",
    "    graph.y = torch.nan_to_num(graph.y)\n",
    "\n",
    "train_set = dataset[:int(len(dataset)*.8)]\n",
    "test_set = dataset[int(len(dataset)*.8):]\n",
    "train_loader = loader.DataLoader(train_set, batch_size=32)\n",
    "test_loader = loader.DataLoader(test_set, batch_size=32)"
   ]
  },
  {
   "cell_type": "markdown",
   "id": "bce3594e",
   "metadata": {},
   "source": [
    "Next, we initialize our model and chose a loss function and an optimizer."
   ]
  },
  {
   "cell_type": "code",
   "execution_count": null,
   "id": "7c51c7b0",
   "metadata": {},
   "outputs": [],
   "source": [
    "from torch import optim, nn\n",
    "\n",
    "device = ('cuda:0' if torch.cuda.is_available() else 'cpu')\n",
    "model = MyModel().to(device)\n",
    "criterion = nn.BCEWithLogitsLoss()\n",
    "optimizer = optim.Adam(model.parameters(), lr=1e-3)"
   ]
  },
  {
   "cell_type": "markdown",
   "id": "3ebd2ce9",
   "metadata": {},
   "source": [
    "Finally, we can train our model on the trainingsset and evaluate it on the test set."
   ]
  },
  {
   "cell_type": "code",
   "execution_count": null,
   "id": "da2a64c1",
   "metadata": {},
   "outputs": [],
   "source": [
    "from sklearn.metrics import roc_auc_score\n",
    "\n",
    "EPOCHS = 30\n",
    "for epoch in range(1, EPOCHS+1):\n",
    "    loss_list = []\n",
    "    model.train()\n",
    "    for batch in train_loader:\n",
    "        optimizer.zero_grad()\n",
    "        batch = batch.to(device)\n",
    "        out = model(batch.x, batch.edge_index, batch.batch)\n",
    "        loss = criterion(out, batch.y)\n",
    "        loss_list.append(loss.item())\n",
    "        loss.backward()\n",
    "        optimizer.step()\n",
    "\n",
    "    accuracy_list = []\n",
    "    roc_auc_list = []\n",
    "    model.eval()\n",
    "    for batch in test_loader:\n",
    "        batch = batch.to(device)\n",
    "        out = torch.round(torch.sigmoid(model(batch.x, batch.edge_index, batch.batch))).to('cpu').detach()\n",
    "        batch = batch.to('cpu')\n",
    "        accuracy = torch.sum(torch.round(torch.sigmoid(out)) == batch.y.cpu())/(batch.y.shape[0]*batch.y.shape[1])\n",
    "        accuracy_list.append(accuracy)\n",
    "    print(f'Loss for epoch {epoch} = {sum(loss_list)/len(train_loader):.4f}    Accuracy = {sum(accuracy_list)/len(test_loader):.4f}')\n",
    "    "
   ]
  },
  {
   "cell_type": "markdown",
   "id": "747a01f7",
   "metadata": {},
   "source": [
    "Because the dataset is heavily imbalanced, and a high accuracy is reached if the model just sets every value to zero, we also calculate the area under the reciever-operator characteristic for each of the 12 classes."
   ]
  },
  {
   "cell_type": "code",
   "execution_count": null,
   "id": "19a64d16",
   "metadata": {},
   "outputs": [],
   "source": [
    "from sklearn.metrics import roc_auc_score\n",
    "\n",
    "label = []\n",
    "pred = []\n",
    "\n",
    "model.eval()\n",
    "for batch in train_loader:\n",
    "    batch = batch.to(device)\n",
    "    out = model(batch.x, batch.edge_index, batch.batch)\n",
    "    label.append(batch.y)\n",
    "    pred.append(out.detach())\n",
    "\n",
    "label = torch.cat(label, 0).cpu()\n",
    "pred = torch.cat(pred, 0).cpu()\n",
    "\n",
    "roc_auc = [roc_auc_score(label[:, i], pred[:, i]) for i in range(12)]\n",
    "print([round(x, 4) for x in roc_auc])"
   ]
  }
 ],
 "metadata": {
  "interpreter": {
   "hash": "b2063f454e5583264956edca724ed174a35400d49c5baf96fcf9ea99fcd5830b"
  },
  "kernelspec": {
   "display_name": "Python 3.9.12 ('ma1')",
   "language": "python",
   "name": "python3"
  },
  "language_info": {
   "codemirror_mode": {
    "name": "ipython",
    "version": 3
   },
   "file_extension": ".py",
   "mimetype": "text/x-python",
   "name": "python",
   "nbconvert_exporter": "python",
   "pygments_lexer": "ipython3",
   "version": "3.9.12"
  }
 },
 "nbformat": 4,
 "nbformat_minor": 5
}
